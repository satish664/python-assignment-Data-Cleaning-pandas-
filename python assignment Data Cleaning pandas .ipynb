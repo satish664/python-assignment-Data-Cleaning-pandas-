{
 "cells": [
  {
   "cell_type": "code",
   "execution_count": 1,
   "id": "c835300a",
   "metadata": {},
   "outputs": [
    {
     "name": "stdout",
     "output_type": "stream",
     "text": [
      "            From_To  FlightNumber  RecentDelays              Airline\n",
      "0      LoNDon_paris         10045      [23, 47]               KLM(!)\n",
      "1      MAdrid_miLAN         10055            []    <Air France> (12)\n",
      "2  londON_StockhOlm         10065  [24, 43, 87]  (British Airways. )\n",
      "3    Budapest_PaRis         10075          [13]       12. Air France\n",
      "4   Brussels_londOn         10085      [67, 32]          \"Swiss Air\"\n"
     ]
    }
   ],
   "source": [
    "#1\n",
    "\n",
    "import pandas as pd\n",
    "import numpy as np\n",
    "\n",
    "df = pd.DataFrame({'From_To': ['LoNDon_paris', 'MAdrid_miLAN','londON_StockhOlm','Budapest_PaRis', 'Brussels_londOn'],\n",
    "                  'FlightNumber': [10045, np.nan, 10065, np.nan, 10085],\n",
    "                  'RecentDelays': [[23, 47], [], [24, 43, 87], [13], [67, 32]],\n",
    "                  'Airline': ['KLM(!)', '<Air France> (12)', '(British Airways. )','12. Air France', '\"Swiss Air\"']})\n",
    "\n",
    "df['FlightNumber'] = df['FlightNumber'].interpolate().astype(int)\n",
    "print(df)\n"
   ]
  },
  {
   "cell_type": "code",
   "execution_count": 2,
   "id": "1ab51dc1",
   "metadata": {},
   "outputs": [],
   "source": [
    "df['FlightNumber'] = df['FlightNumber'].ffill() + 10\n",
    "df['FlightNumber'] = df['FlightNumber'].astype(int)"
   ]
  },
  {
   "cell_type": "code",
   "execution_count": 3,
   "id": "e087ae4f",
   "metadata": {},
   "outputs": [
    {
     "name": "stdout",
     "output_type": "stream",
     "text": [
      "   FlightNumber  RecentDelays              Airline      From         To\n",
      "0       10045.0      [23, 47]               KLM(!)    LoNDon      paris\n",
      "1           NaN            []    <Air France> (12)    MAdrid      miLAN\n",
      "2       10065.0  [24, 43, 87]  (British Airways. )    londON  StockhOlm\n",
      "3           NaN          [13]       12. Air France  Budapest      PaRis\n",
      "4       10085.0      [67, 32]          \"Swiss Air\"  Brussels     londOn\n"
     ]
    }
   ],
   "source": [
    "#2.\n",
    "\n",
    "import pandas as pd\n",
    "import numpy as np\n",
    "\n",
    "df = pd.DataFrame({'From_To': ['LoNDon_paris', 'MAdrid_miLAN','londON_StockhOlm','Budapest_PaRis', 'Brussels_londOn'],\n",
    "                  'FlightNumber': [10045, np.nan, 10065, np.nan, 10085],\n",
    "                  'RecentDelays': [[23, 47], [], [24, 43, 87], [13], [67, 32]],\n",
    "                  'Airline': ['KLM(!)', '<Air France> (12)', '(British Airways. )','12. Air France', '\"Swiss Air\"']})\n",
    "\n",
    "temp_df = df[\"From_To\"].str.split(\"_\", expand=True)\n",
    "temp_df.columns = [\"From\", \"To\"]\n",
    "\n",
    "df = pd.concat([df, temp_df], axis=1)\n",
    "df = df.drop([\"From_To\"], axis=1)\n",
    "\n",
    "print(df)\n"
   ]
  },
  {
   "cell_type": "code",
   "execution_count": 4,
   "id": "98542bc8",
   "metadata": {},
   "outputs": [
    {
     "name": "stdout",
     "output_type": "stream",
     "text": [
      "   FlightNumber  RecentDelays              Airline      From         To\n",
      "0       10045.0      [23, 47]               KLM(!)    London      Paris\n",
      "1           NaN            []    <Air France> (12)    Madrid      Milan\n",
      "2       10065.0  [24, 43, 87]  (British Airways. )    London  Stockholm\n",
      "3           NaN          [13]       12. Air France  Budapest      Paris\n",
      "4       10085.0      [67, 32]          \"Swiss Air\"  Brussels     London\n"
     ]
    }
   ],
   "source": [
    "#3\n",
    "\n",
    "import pandas as pd\n",
    "import numpy as np\n",
    "\n",
    "df = pd.DataFrame({'From_To': ['LoNDon_paris', 'MAdrid_miLAN','londON_StockhOlm','Budapest_PaRis', 'Brussels_londOn'],\n",
    "                  'FlightNumber': [10045, np.nan, 10065, np.nan, 10085],\n",
    "                  'RecentDelays': [[23, 47], [], [24, 43, 87], [13], [67, 32]],\n",
    "                  'Airline': ['KLM(!)', '<Air France> (12)', '(British Airways. )','12. Air France', '\"Swiss Air\"']})\n",
    "\n",
    "temp_df = df[\"From_To\"].str.split(\"_\", expand=True)\n",
    "temp_df.columns = [\"From\", \"To\"]\n",
    "temp_df[\"From\"] = temp_df[\"From\"].str.capitalize()\n",
    "temp_df[\"To\"] = temp_df[\"To\"].str.capitalize()\n",
    "\n",
    "df = pd.concat([df, temp_df], axis=1)\n",
    "df = df.drop([\"From_To\"], axis=1)\n",
    "\n",
    "print(df)\n"
   ]
  },
  {
   "cell_type": "code",
   "execution_count": 5,
   "id": "599460db",
   "metadata": {},
   "outputs": [
    {
     "name": "stdout",
     "output_type": "stream",
     "text": [
      "   FlightNumber  RecentDelays              Airline      From         To\n",
      "0       10045.0      [23, 47]               KLM(!)    London      Paris\n",
      "1           NaN            []    <Air France> (12)    Madrid      Milan\n",
      "2       10065.0  [24, 43, 87]  (British Airways. )    London  Stockholm\n",
      "3           NaN          [13]       12. Air France  Budapest      Paris\n",
      "4       10085.0      [67, 32]          \"Swiss Air\"  Brussels     London\n"
     ]
    }
   ],
   "source": [
    "#4\n",
    "\n",
    "\n",
    "import pandas as pd\n",
    "import numpy as np\n",
    "\n",
    "df = pd.DataFrame({'From_To': ['LoNDon_paris', 'MAdrid_miLAN','londON_StockhOlm','Budapest_PaRis', 'Brussels_londOn'],\n",
    "                  'FlightNumber': [10045, np.nan, 10065, np.nan, 10085],\n",
    "                  'RecentDelays': [[23, 47], [], [24, 43, 87], [13], [67, 32]],\n",
    "                  'Airline': ['KLM(!)', '<Air France> (12)', '(British Airways. )','12. Air France', '\"Swiss Air\"']})\n",
    "\n",
    "temp_df = df[\"From_To\"].str.split(\"_\", expand=True)\n",
    "temp_df.columns = [\"From\", \"To\"]\n",
    "temp_df[\"From\"] = temp_df[\"From\"].str.capitalize()\n",
    "temp_df[\"To\"] = temp_df[\"To\"].str.capitalize()\n",
    "\n",
    "df = df.drop([\"From_To\"], axis=1)\n",
    "df = pd.concat([df, temp_df], axis=1)\n",
    "\n",
    "print(df)\n"
   ]
  },
  {
   "cell_type": "code",
   "execution_count": 6,
   "id": "7e93df8e",
   "metadata": {},
   "outputs": [
    {
     "name": "stdout",
     "output_type": "stream",
     "text": [
      "            From_To  FlightNumber              Airline  delay_1  delay_2  \\\n",
      "0      LoNDon_paris       10045.0               KLM(!)     23.0     47.0   \n",
      "1      MAdrid_miLAN           NaN    <Air France> (12)      NaN      NaN   \n",
      "2  londON_StockhOlm       10065.0  (British Airways. )     24.0     43.0   \n",
      "3    Budapest_PaRis           NaN       12. Air France     13.0      NaN   \n",
      "4   Brussels_londOn       10085.0          \"Swiss Air\"     67.0     32.0   \n",
      "\n",
      "   delay_3  \n",
      "0      NaN  \n",
      "1      NaN  \n",
      "2     87.0  \n",
      "3      NaN  \n",
      "4      NaN  \n"
     ]
    }
   ],
   "source": [
    "#5\n",
    "\n",
    "import pandas as pd\n",
    "\n",
    "# Create the DataFrame\n",
    "df = pd.DataFrame({'From_To': ['LoNDon_paris', 'MAdrid_miLAN', 'londON_StockhOlm', 'Budapest_PaRis', 'Brussels_londOn'],\n",
    "                   'FlightNumber': [10045, np.nan, 10065, np.nan, 10085],\n",
    "                   'RecentDelays': [[23, 47], [], [24, 43, 87], [13], [67, 32]],\n",
    "                   'Airline': ['KLM(!)', '<Air France> (12)', '(British Airways. )', '12. Air France', '\"Swiss Air\"']})\n",
    "\n",
    "# Create the delays DataFrame\n",
    "delays = pd.DataFrame(df['RecentDelays'].values.tolist())\n",
    "\n",
    "# Rename the columns\n",
    "delays.columns = ['delay_{}'.format(i+1) for i in range(delays.shape[1])]\n",
    "\n",
    "# Drop the RecentDelays column\n",
    "df.drop('RecentDelays', axis=1, inplace=True)\n",
    "\n",
    "# Join the delays DataFrame\n",
    "df = pd.concat([df, delays], axis=1)\n",
    "\n",
    "# Print the updated DataFrame\n",
    "print(df)\n"
   ]
  },
  {
   "cell_type": "code",
   "execution_count": null,
   "id": "95eb10ff",
   "metadata": {},
   "outputs": [],
   "source": []
  }
 ],
 "metadata": {
  "kernelspec": {
   "display_name": "Python 3",
   "language": "python",
   "name": "python3"
  },
  "language_info": {
   "codemirror_mode": {
    "name": "ipython",
    "version": 3
   },
   "file_extension": ".py",
   "mimetype": "text/x-python",
   "name": "python",
   "nbconvert_exporter": "python",
   "pygments_lexer": "ipython3",
   "version": "3.6.4"
  }
 },
 "nbformat": 4,
 "nbformat_minor": 5
}
